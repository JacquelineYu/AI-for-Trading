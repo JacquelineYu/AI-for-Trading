{
 "cells": [
  {
   "cell_type": "markdown",
   "metadata": {},
   "source": [
    "# Neural networks with PyTorch\n",
    "\n",
    "Deep learning networks tend to be massive with dozens or hundreds of layers, that's where the term \"deep\" comes from. You can build one of these deep networks using only weight matrices as we did in the previous notebook, but in general it's very cumbersome and difficult to implement. PyTorch has a nice module `nn` that provides a nice way to efficiently build large neural networks."
   ]
  },
  {
   "cell_type": "code",
   "execution_count": 18,
   "metadata": {},
   "outputs": [],
   "source": [
    "# Import necessary packages\n",
    "\n",
    "%matplotlib inline\n",
    "%config InlineBackend.figure_format = 'retina'\n",
    "\n",
    "import numpy as np\n",
    "import torch\n",
    "\n",
    "import helper\n",
    "\n",
    "import matplotlib.pyplot as plt"
   ]
  },
  {
   "cell_type": "markdown",
   "metadata": {},
   "source": [
    "\n",
    "Now we're going to build a larger network that can solve a (formerly) difficult problem, identifying text in an image. Here we'll use the MNIST dataset which consists of greyscale handwritten digits. Each image is 28x28 pixels, you can see a sample below\n",
    "\n",
    "<img src='assets/mnist.png'>\n",
    "\n",
    "Our goal is to build a neural network that can take one of these images and predict the digit in the image.\n",
    "\n",
    "First up, we need to get our dataset. This is provided through the `torchvision` package. The code below will download the MNIST dataset, then create training and test datasets for us. Don't worry too much about the details here, you'll learn more about this later."
   ]
  },
  {
   "cell_type": "code",
   "execution_count": 19,
   "metadata": {},
   "outputs": [
    {
     "name": "stdout",
     "output_type": "stream",
     "text": [
      "Requirement already satisfied: torchvision in d:\\anaconda3\\lib\\site-packages (0.4.1)\n",
      "Requirement already satisfied: numpy in d:\\anaconda3\\lib\\site-packages (from torchvision) (1.16.4)\n",
      "Requirement already satisfied: torch in d:\\anaconda3\\lib\\site-packages (from torchvision) (1.0.1)\n",
      "Requirement already satisfied: pillow>=4.1.1 in d:\\anaconda3\\lib\\site-packages (from torchvision) (6.1.0)\n",
      "Requirement already satisfied: six in d:\\anaconda3\\lib\\site-packages (from torchvision) (1.12.0)\n"
     ]
    }
   ],
   "source": [
    "! pip install torchvision"
   ]
  },
  {
   "cell_type": "code",
   "execution_count": 20,
   "metadata": {},
   "outputs": [],
   "source": [
    "from torchvision import datasets, transforms"
   ]
  },
  {
   "cell_type": "code",
   "execution_count": 21,
   "metadata": {},
   "outputs": [],
   "source": [
    "### Run this cell\n",
    "\n",
    "from torchvision import datasets, transforms\n",
    "\n",
    "# Define a transform to normalize the data\n",
    "transform = transforms.Compose([transforms.ToTensor(),\n",
    "                              transforms.Normalize((0.5,), (0.5,)),\n",
    "                              ])\n",
    "\n",
    "# Download and load the training data\n",
    "trainset = datasets.MNIST('~/.pytorch/MNIST_data/', download=True, train=True, transform=transform)\n",
    "trainloader = torch.utils.data.DataLoader(trainset, batch_size=64, shuffle=True)"
   ]
  },
  {
   "cell_type": "markdown",
   "metadata": {},
   "source": [
    "We have the training data loaded into `trainloader` and we make that an iterator with `iter(trainloader)`. Later, we'll use this to loop through the dataset for training, like\n",
    "\n",
    "```python\n",
    "for image, label in trainloader:\n",
    "    ## do things with images and labels\n",
    "```\n",
    "\n",
    "You'll notice I created the `trainloader` with a batch size of 64, and `shuffle=True`. The batch size is the number of images we get in one iteration from the data loader and pass through our network, often called a *batch*. And `shuffle=True` tells it to shuffle the dataset every time we start going through the data loader again. But here I'm just grabbing the first batch so we can check out the data. We can see below that `images` is just a tensor with size `(64, 1, 28, 28)`. So, 64 images per batch, 1 color channel, and 28x28 images."
   ]
  },
  {
   "cell_type": "code",
   "execution_count": 22,
   "metadata": {},
   "outputs": [
    {
     "name": "stdout",
     "output_type": "stream",
     "text": [
      "<class 'torch.Tensor'>\n",
      "torch.Size([64, 1, 28, 28])\n",
      "torch.Size([64])\n"
     ]
    }
   ],
   "source": [
    "dataiter = iter(trainloader)\n",
    "images, labels = dataiter.next()\n",
    "print(type(images))\n",
    "print(images.shape)\n",
    "print(labels.shape)\n"
   ]
  },
  {
   "cell_type": "markdown",
   "metadata": {},
   "source": [
    "This is what one of the images looks like. "
   ]
  },
  {
   "cell_type": "code",
   "execution_count": 15,
   "metadata": {},
   "outputs": [
    {
     "data": {
      "image/png": "[encoded data removed]",
      "text/plain": [
       "<Figure size 432x288 with 1 Axes>"
      ]
     },
     "metadata": {
      "image/png": {
       "height": 248,
       "width": 251
      },
      "needs_background": "light"
     },
     "output_type": "display_data"
    }
   ],
   "source": [
    "plt.imshow(images[1].numpy().squeeze(), cmap='Greys_r');"
   ]
  },
  {
   "cell_type": "markdown",
   "metadata": {},
   "source": [
    "First, let's try to build a simple network for this dataset using weight matrices and matrix multiplications. Then, we'll see how to do it using PyTorch's `nn` module which provides a much more convenient and powerful method for defining network architectures.\n",
    "\n",
    "The networks you've seen so far are called *fully-connected* or *dense* networks. Each unit in one layer is connected to each unit in the next layer. In fully-connected networks, the input to each layer must be a one-dimensional vector (which can be stacked into a 2D tensor as a batch of multiple examples). However, our images are 28x28 2D tensors, so we need to convert them into 1D vectors. Thinking about sizes, we need to convert the batch of images with shape `(64, 1, 28, 28)` to a have a shape of `(64, 784)`, 784 is 28 times 28. This is typically called *flattening*, we flattened the 2D images into 1D vectors.\n",
    "\n",
    "Previously you built a network with one output unit. Here we need 10 output units, one for each digit. We want our network to predict the digit shown in an image, so what we'll do is calculate probabilities that the image is of any one digit or class. This ends up being a discrete probability distribution over the classes (digits) that tells us the most likely class for the image. That means we need 10 output units for the 10 classes (digits). We'll see how to convert the network output into a probability distribution next.\n",
    "\n",
    "> **Exercise:** Flatten the batch of images `images`. Then build a multi-layer network with 784 input units, 256 hidden units, and 10 output units using random tensors for the weights and biases. For now, use a sigmoid activation for the hidden layer. Leave the output layer without an activation, we'll add one that gives us a probability distribution next."
   ]
  },
  {
   "cell_type": "code",
   "execution_count": 23,
   "metadata": {},
   "outputs": [
    {
     "data": {
      "text/plain": [
       "64"
      ]
     },
     "execution_count": 23,
     "metadata": {},
     "output_type": "execute_result"
    }
   ],
   "source": [
    "images.shape[0]"
   ]
  },
  {
   "cell_type": "code",
   "execution_count": 30,
   "metadata": {},
   "outputs": [
    {
     "name": "stdout",
     "output_type": "stream",
     "text": [
      "tensor([[-1.9914e+01,  2.5752e+00, -3.6120e+00, -1.0662e+01, -6.2437e+00,\n",
      "         -3.7763e+00,  1.0117e+01,  2.1105e+01, -6.7845e+00, -1.3507e+01],\n",
      "        [-2.6477e+01,  8.4591e+00, -1.3824e+01, -3.4099e+00, -7.7368e+00,\n",
      "          3.4370e+00,  3.2944e+00,  1.4304e+01, -5.0976e+00,  6.3778e+00],\n",
      "        [-2.2488e+01,  4.4815e+00,  2.3656e+00, -1.0102e+01, -1.1771e+01,\n",
      "          7.5090e+00,  1.1384e+01,  1.7503e+01,  7.5158e+00,  1.4501e+01],\n",
      "        [-2.0162e+01, -2.9771e-01,  1.9943e+00, -8.2087e+00, -1.9390e+01,\n",
      "         -1.1295e+01,  1.2015e+00,  1.7271e+01,  9.6339e+00,  4.4985e+00],\n",
      "        [-3.2501e+01,  1.6113e+01, -8.8138e+00, -1.0790e+01, -4.4911e+00,\n",
      "         -3.9394e+00,  4.8271e+00,  2.5688e+01, -5.6081e+00,  3.9139e-01],\n",
      "        [-1.9922e+01,  6.8519e+00,  2.4799e+00, -6.2408e+00, -9.3668e+00,\n",
      "         -8.9637e+00,  9.0271e+00,  1.0804e+01,  8.2186e+00, -3.3295e+00],\n",
      "        [-1.7871e+01, -4.9958e+00, -7.4955e-01, -1.3410e+01, -1.2416e+00,\n",
      "         -5.3774e+00,  7.7621e+00,  1.2654e+01,  9.7999e+00, -2.7382e+00],\n",
      "        [-2.5761e+01,  3.8505e+00,  5.0056e-01, -8.6143e+00, -5.7095e+00,\n",
      "         -6.1462e+00,  4.4031e+00,  1.8079e+01, -4.6781e+00, -9.7811e+00],\n",
      "        [-2.9083e+01,  6.1708e+00, -6.3352e+00, -8.8239e+00, -1.8085e+00,\n",
      "         -5.9947e+00,  7.8168e+00,  1.7920e+01,  4.9016e+00, -3.1395e+00],\n",
      "        [-2.5139e+01,  5.4511e+00,  4.8018e+00, -2.1365e+01, -7.0305e+00,\n",
      "          2.9724e+00,  1.0361e+01,  1.8275e+01,  6.6529e-01, -5.1873e+00],\n",
      "        [-3.4639e+01,  9.3964e+00, -7.6567e+00, -1.6786e+01, -6.4715e+00,\n",
      "         -4.6567e+00, -3.8992e+00,  1.5080e+01, -1.3288e+00, -1.7802e+00],\n",
      "        [-3.2387e+01,  2.7984e+00, -1.9508e+01, -6.3303e+00,  7.7212e-01,\n",
      "         -2.1111e+00,  1.5470e+00,  1.7952e+01, -7.0664e+00, -7.5588e+00],\n",
      "        [-2.0044e+01,  7.0860e+00, -4.1817e+00,  1.3170e+00, -4.6322e+00,\n",
      "         -1.0651e+01,  1.5449e+01,  2.0754e+01, -1.9384e-01,  2.6860e+00],\n",
      "        [-3.1401e+01,  3.2201e+00, -9.2108e+00, -1.2493e+01, -1.5879e+01,\n",
      "         -5.1554e-01,  7.1232e+00,  2.2398e+01, -7.2657e+00, -2.9830e+00],\n",
      "        [-2.9907e+01, -2.6336e+00, -3.0482e+00, -6.7359e+00,  1.0497e+00,\n",
      "         -9.2638e+00,  1.7929e+00,  1.5046e+01, -3.3876e+00, -5.2850e+00],\n",
      "        [-2.0935e+01, -6.1687e+00, -3.8256e+00, -2.0811e+01, -9.6980e+00,\n",
      "         -2.3295e+01,  1.0801e+01,  1.3839e+01,  2.0014e+00,  5.9884e-01],\n",
      "        [-3.2888e+01, -8.8867e+00, -1.1089e+00, -1.8094e+01, -4.6104e+00,\n",
      "          2.7371e+00,  1.6006e+01,  1.2514e+01, -9.4267e+00, -4.4627e+00],\n",
      "        [-3.0421e+01,  7.1131e+00, -7.9039e+00, -1.2345e+01, -3.5556e+00,\n",
      "         -2.6828e+00,  8.0972e+00,  1.8083e+01,  7.0256e+00, -4.1862e+00],\n",
      "        [-2.1386e+01, -7.9090e+00, -1.1485e+01, -1.2789e+01, -7.7172e+00,\n",
      "         -3.0659e+00,  7.9981e+00,  2.4900e+01, -1.8937e+00, -1.1282e+01],\n",
      "        [-3.7781e+01,  1.0472e+01, -1.0491e+01, -1.1282e+01, -8.2684e+00,\n",
      "         -2.0839e+00,  9.6586e+00,  2.0264e+01,  9.1284e+00, -2.2642e+00],\n",
      "        [-3.0566e+01,  4.7492e+00, -5.0395e+00, -5.9897e+00, -2.2580e+00,\n",
      "         -5.5341e+00,  8.9832e+00,  1.6189e+01,  2.6284e+00,  3.2124e-01],\n",
      "        [-1.3375e+01, -1.0213e-02, -1.0121e+01, -1.4137e+01, -1.2109e+01,\n",
      "         -7.0263e+00,  4.6843e+00,  1.5155e+01,  9.7663e+00, -6.5561e+00],\n",
      "        [-3.4873e+01,  9.6445e+00, -6.2111e+00, -6.5394e+00, -5.7220e+00,\n",
      "         -1.7671e+00,  6.9301e-01,  1.5874e+01,  5.3789e+00,  1.1783e+01],\n",
      "        [-2.7493e+01, -2.3061e+00, -6.3994e+00, -1.5636e+01, -8.5348e+00,\n",
      "         -3.3641e-01,  2.7246e+00,  1.7989e+01,  6.6827e+00,  6.7595e+00],\n",
      "        [-2.8835e+01,  3.5489e+00, -1.1663e+01, -9.6308e+00, -1.2105e+01,\n",
      "          2.0844e+00,  6.5962e+00,  1.4027e+01, -1.5072e+00,  3.3147e+00],\n",
      "        [-2.3651e+01,  4.5942e-01, -5.2148e+00, -1.2231e+01, -9.4279e+00,\n",
      "         -1.2038e+01,  7.6027e+00,  9.3703e+00,  5.7593e+00, -5.5872e+00],\n",
      "        [-2.7595e+01, -1.0986e+01, -1.3804e+01, -1.0691e+01, -8.8191e+00,\n",
      "         -2.4940e+00,  3.6114e+00,  1.6022e+01,  3.5401e-01, -8.3815e+00],\n",
      "        [-2.9022e+01,  1.0188e+01, -5.6545e+00, -1.0596e+01,  3.1219e-01,\n",
      "          1.2846e+00,  1.2443e+01,  1.2744e+01, -5.0417e+00, -4.2057e+00],\n",
      "        [-2.9784e+01,  9.2686e+00, -3.8738e+00, -1.2530e+01, -1.0776e+01,\n",
      "          1.9788e+00,  1.4590e+01,  1.3154e+01, -8.9426e+00,  3.1707e+00],\n",
      "        [-2.3736e+01,  2.7357e+00, -4.3079e+00, -1.5845e+00, -3.4321e+00,\n",
      "         -2.8629e+00, -1.0794e+00,  1.3670e+01,  7.1517e-01,  2.7986e+00],\n",
      "        [-2.1480e+01,  8.4912e+00, -1.2120e+01, -2.2283e+00, -2.7017e+00,\n",
      "          4.5914e+00,  8.0173e+00,  1.5111e+01,  7.0590e+00, -3.7180e+00],\n",
      "        [-1.9274e+01,  1.5192e+00, -2.5604e+00, -1.5408e+01, -4.1139e+00,\n",
      "         -7.4247e+00,  6.3524e+00,  1.6291e+01,  3.1569e+00, -1.1799e+00],\n",
      "        [-3.4637e+01,  1.0772e+01, -6.7770e+00, -1.1493e+01, -6.1391e+00,\n",
      "         -1.0221e+01,  2.4059e+00,  1.9261e+01, -2.6688e+00,  1.5649e+00],\n",
      "        [-3.0286e+01,  1.2735e+01, -5.8165e+00, -1.9472e+01, -2.6047e+00,\n",
      "         -3.0766e+00,  1.6758e+00,  2.0825e+01,  8.9394e-02,  1.3380e+00],\n",
      "        [-2.9527e+01,  1.1567e+01, -7.1401e+00, -2.5897e+00, -6.5129e+00,\n",
      "          4.7407e+00,  1.0957e+01,  2.1771e+01,  1.9853e+00,  9.3687e+00],\n",
      "        [-3.1546e+01,  3.8695e+00,  8.2427e-01, -6.0751e+00, -1.2663e+01,\n",
      "         -2.3937e+00,  6.8016e+00,  1.6428e+01, -7.2593e+00, -7.5035e+00],\n",
      "        [-2.9159e+01,  3.1993e+00, -3.5638e+00, -5.1165e+00, -1.0109e+01,\n",
      "         -6.8677e+00,  6.8744e+00,  1.9042e+01, -3.5614e+00, -7.5825e+00],\n",
      "        [-2.8940e+01,  1.1718e+00,  3.9393e-01, -9.5079e+00, -7.9068e+00,\n",
      "         -8.5384e+00,  9.1214e+00,  2.3302e+01,  7.6109e+00, -3.3272e+00],\n",
      "        [-3.6190e+01,  1.5054e+01, -7.5046e+00, -1.6841e+01, -6.1932e+00,\n",
      "         -5.1972e+00,  2.0073e+00,  2.2116e+01,  1.3950e+00,  1.9645e+00],\n",
      "        [-2.5339e+01,  1.3926e+00, -2.6528e+00, -1.6963e+01, -2.5189e+00,\n",
      "         -3.5026e+00,  5.5562e+00,  1.9872e+01,  8.5827e+00, -1.0604e+01],\n",
      "        [-2.7806e+01,  6.7687e+00, -6.1256e+00, -1.3303e+01, -9.3818e+00,\n",
      "          3.2950e-01,  1.0605e+00,  1.7503e+01, -9.8087e-01, -3.9799e+00],\n",
      "        [-2.1314e+01,  4.0518e+00, -7.6772e+00, -1.1748e+00, -3.0600e+00,\n",
      "          1.0027e+01,  2.0308e+01,  1.3383e+01,  1.3157e+01,  1.1083e+00],\n",
      "        [-3.0056e+01,  5.6059e-02, -6.1766e+00, -1.1972e+01, -8.3673e-02,\n",
      "         -3.5697e+00,  8.5137e+00,  1.8244e+01,  3.0110e+00,  4.0000e-01],\n",
      "        [-2.4307e+01,  3.0806e+00, -4.0173e+00, -9.5673e+00, -2.1020e+00,\n",
      "         -3.2134e+00,  6.9721e+00,  2.2149e+01, -4.1027e+00, -6.9229e+00],\n",
      "        [-3.0251e+01, -2.5408e+00, -4.3208e-01, -8.8107e+00, -5.9323e+00,\n",
      "         -5.3558e-01,  7.0403e+00,  2.2682e+01, -3.0104e+00, -1.7785e+00],\n",
      "        [-1.9022e+01,  1.0899e+00, -7.2058e+00, -2.2394e+01, -1.1648e+01,\n",
      "         -9.8377e+00,  1.1063e+01,  1.1614e+01, -7.4288e-01,  3.2778e+00],\n",
      "        [-2.8539e+01, -4.1027e+00, -6.1972e-01, -8.8826e+00, -7.5370e+00,\n",
      "         -7.5656e+00,  9.0637e+00,  2.3277e+01, -1.3198e+00, -4.8259e+00],\n",
      "        [-2.5937e+01, -2.5266e+00, -8.8563e+00, -1.0616e+01, -8.2314e+00,\n",
      "         -1.3021e+01,  3.2878e+00,  1.5011e+01, -7.5284e-01, -4.2998e+00],\n",
      "        [-3.2733e+01,  3.2979e+00,  5.2756e-01, -1.8465e+01, -6.2545e+00,\n",
      "         -1.1154e+01,  6.3543e+00,  1.7820e+01, -5.4841e-01,  9.4381e-01],\n",
      "        [-2.6581e+01,  3.3351e+00,  2.1210e+00,  1.2808e+00, -1.0429e+01,\n",
      "          5.1795e-01,  7.4036e+00,  9.2018e+00, -4.1029e+00, -1.8507e+00],\n",
      "        [-2.6791e+01,  1.9386e+01, -6.0540e+00, -6.7525e+00, -1.3565e+01,\n",
      "         -4.8483e+00,  1.5906e+00,  9.0787e+00, -1.0634e+00, -2.8177e+00],\n",
      "        [-3.3545e+01,  1.6899e+00, -7.7327e+00, -1.3000e+01, -1.1238e+01,\n",
      "         -1.1520e+01,  4.7898e+00,  2.4127e+01, -5.9885e+00, -5.8193e+00],\n",
      "        [-2.3998e+01,  3.5205e+00, -3.2262e+00, -1.7752e+01, -1.2833e+01,\n",
      "         -7.1019e+00,  3.8113e+00,  1.7250e+01, -2.1957e+00, -4.7536e+00],\n",
      "        [-2.5718e+01,  2.6416e+00, -6.4659e+00, -3.6608e+00, -5.1542e+00,\n",
      "         -1.7360e+00,  7.9257e+00,  1.7672e+01,  6.6067e+00, -2.5604e+00],\n",
      "        [-2.6702e+01,  8.8904e+00,  1.9989e+00, -1.7359e+01, -1.9219e+00,\n",
      "         -3.6711e+00,  5.1523e+00,  1.7945e+01, -2.4185e+00,  1.1539e+00],\n",
      "        [-3.1281e+01,  9.3349e+00, -1.1465e+01, -1.0087e+01, -8.3888e+00,\n",
      "         -7.9887e+00,  5.9638e+00,  1.8981e+01, -1.6859e+00,  2.1273e+00],\n",
      "        [-2.3378e+01, -2.8110e+00, -5.6890e+00, -7.9289e+00, -9.3097e+00,\n",
      "          2.0334e+00,  8.3580e+00,  1.4623e+01,  6.5596e+00, -3.9265e+00],\n",
      "        [-3.2008e+01,  3.1881e+00, -1.0424e+01, -8.9066e+00, -8.7377e+00,\n",
      "         -7.2277e+00,  6.2740e+00,  2.1822e+01, -1.8995e+00, -6.4079e+00],\n",
      "        [-3.1299e+01, -5.3287e-01, -5.6602e-02,  6.2834e-01, -1.2176e+01,\n",
      "         -5.3685e+00,  2.2543e+01,  2.1308e+01,  3.0097e+00,  1.8553e+00],\n",
      "        [-3.1613e+01,  1.1378e+01, -5.5689e+00,  4.3840e+00, -9.8362e+00,\n",
      "          2.8275e+00,  1.2848e+01,  2.2993e+01, -6.3935e-01,  1.9002e+00],\n",
      "        [-3.4174e+01,  4.3234e+00, -1.3538e+01, -3.5914e+00, -3.9945e+00,\n",
      "         -5.3605e+00,  8.6840e+00,  1.8167e+01, -2.0735e+00,  2.2073e-02],\n",
      "        [-2.5089e+01, -3.9774e+00, -2.5987e+00, -5.3984e+00, -7.7392e+00,\n",
      "         -1.0124e+01,  1.5047e+01,  1.4681e+01,  1.2781e+01,  1.2452e+01],\n",
      "        [-3.3484e+01,  5.0828e+00, -3.9192e+00, -1.9865e+01, -7.3251e+00,\n",
      "         -1.0701e+01,  8.4081e+00,  2.1786e+01, -1.1832e+00, -9.2916e+00],\n",
      "        [-3.3001e+01,  7.7373e+00, -8.4819e+00, -1.0962e+01, -1.0102e+01,\n"
     ]
    },
    {
     "name": "stdout",
     "output_type": "stream",
     "text": [
      "         -6.6834e-01,  3.0120e+00,  2.2825e+01, -3.5704e+00, -4.8361e+00]])\n"
     ]
    },
    {
     "data": {
      "text/plain": [
       "torch.Size([64, 10])"
      ]
     },
     "execution_count": 30,
     "metadata": {},
     "output_type": "execute_result"
    }
   ],
   "source": [
    "## Your solution\n",
    "def activation(x):\n",
    "    return 1/(1+torch.exp(-x))\n",
    "\n",
    "#Flattern the input images\n",
    "inputs = images.view(images.shape[0],-1)\n",
    "\n",
    "#Create parameters\n",
    "torch.manual_seed(10)\n",
    "\n",
    "w1 = torch.randn(784, 256)\n",
    "b1 = torch.randn(1, 256)\n",
    "\n",
    "w2 = torch.randn(256, 10)\n",
    "b2 = torch.randn(1,10)\n",
    "\n",
    "h = activation(torch.mm(inputs, w1) + b1)\n",
    "\n",
    "out = torch.mm(h, w2) + b2\n",
    "print(out)\n",
    "out.shape\n",
    "# output of your network, should have shape (64,10)"
   ]
  },
  {
   "cell_type": "markdown",
   "metadata": {},
   "source": [
    "Now we have 10 outputs for our network. We want to pass in an image to our network and get out a probability distribution over the classes that tells us the likely class(es) the image belongs to. Something that looks like this:\n",
    "<img src='assets/image_distribution.png' width=500px>\n",
    "\n",
    "Here we see that the probability for each class is roughly the same. This is representing an untrained network, it hasn't seen any data yet so it just returns a uniform distribution with equal probabilities for each class.\n",
    "\n",
    "To calculate this probability distribution, we often use the [**softmax** function](https://en.wikipedia.org/wiki/Softmax_function). Mathematically this looks like\n",
    "\n",
    "$$\n",
    "\\Large \\sigma(x_i) = \\cfrac{e^{x_i}}{\\sum_k^K{e^{x_k}}}\n",
    "$$\n",
    "\n",
    "What this does is squish each input $x_i$ between 0 and 1 and normalizes the values to give you a proper probability distribution where the probabilites sum up to one.\n",
    "\n",
    "> **Exercise:** Implement a function `softmax` that performs the softmax calculation and returns probability distributions for each example in the batch. Note that you'll need to pay attention to the shapes when doing this. If you have a tensor `a` with shape `(64, 10)` and a tensor `b` with shape `(64,)`, doing `a/b` will give you an error because PyTorch will try to do the division across the columns (called broadcasting) but you'll get a size mismatch. The way to think about this is for each of the 64 examples, you only want to divide by one value, the sum in the denominator. So you need `b` to have a shape of `(64, 1)`. This way PyTorch will divide the 10 values in each row of `a` by the one value in each row of `b`. Pay attention to how you take the sum as well. You'll need to define the `dim` keyword in `torch.sum`. Setting `dim=0` takes the sum across the rows while `dim=1` takes the sum across the columns."
   ]
  },
  {
   "cell_type": "code",
   "execution_count": 44,
   "metadata": {},
   "outputs": [
    {
     "name": "stdout",
     "output_type": "stream",
     "text": [
      "torch.Size([64, 10])\n",
      "tensor([1.0000, 1.0000, 1.0000, 1.0000, 1.0000, 1.0000, 1.0000, 1.0000, 1.0000,\n",
      "        1.0000, 1.0000, 1.0000, 1.0000, 1.0000, 1.0000, 1.0000, 1.0000, 1.0000,\n",
      "        1.0000, 1.0000, 1.0000, 1.0000, 1.0000, 1.0000, 1.0000, 1.0000, 1.0000,\n",
      "        1.0000, 1.0000, 1.0000, 1.0000, 1.0000, 1.0000, 1.0000, 1.0000, 1.0000,\n",
      "        1.0000, 1.0000, 1.0000, 1.0000, 1.0000, 1.0000, 1.0000, 1.0000, 1.0000,\n",
      "        1.0000, 1.0000, 1.0000, 1.0000, 1.0000, 1.0000, 1.0000, 1.0000, 1.0000,\n",
      "        1.0000, 1.0000, 1.0000, 1.0000, 1.0000, 1.0000, 1.0000, 1.0000, 1.0000,\n",
      "        1.0000])\n"
     ]
    }
   ],
   "source": [
    "def softmax(x):\n",
    "    ## TODO: Implement the softmax function here\n",
    "    return torch.exp(x) / torch.sum(torch.exp(x), dim=1).view(-1,1)\n",
    "\n",
    "# the shape for torch.sum(torch.exp(x), dim=1) is [64], but we need [64,1]\n",
    "    \n",
    "# Here, out should be the output of the network in the previous excercise with shape (64,10)\n",
    "probabilities = softmax(out)\n",
    "\n",
    "# Does it have the right shape? Should be (64, 10)\n",
    "print(probabilities.shape)\n",
    "# Does it sum to 1?\n",
    "print(probabilities.sum(dim=1))"
   ]
  },
  {
   "cell_type": "markdown",
   "metadata": {},
   "source": [
    "## Building networks with PyTorch\n",
    "\n",
    "PyTorch provides a module `nn` that makes building networks much simpler. Here I'll show you how to build the same one as above with 784 inputs, 256 hidden units, 10 output units and a softmax output."
   ]
  },
  {
   "cell_type": "code",
   "execution_count": 45,
   "metadata": {},
   "outputs": [],
   "source": [
    "from torch import nn"
   ]
  },
  {
   "cell_type": "code",
   "execution_count": 50,
   "metadata": {},
   "outputs": [],
   "source": [
    "class Network(nn.Module):\n",
    "    def __init__(self):\n",
    "        super().__init__()\n",
    "        \n",
    "        # Inputs to hidden layer linear transformation\n",
    "        self.hidden = nn.Linear(784, 256)\n",
    "        # Output layer, 10 units - one for each digit\n",
    "        self.output = nn.Linear(256, 10)\n",
    "        \n",
    "        # Define sigmoid activation and softmax output \n",
    "        self.sigmoid = nn.Sigmoid()\n",
    "        self.softmax = nn.Softmax(dim=1)\n",
    "        \n",
    "    def forward(self, x):\n",
    "        # Pass the input tensor through each of our operations\n",
    "        x = self.hidden(x)\n",
    "        x = self.sigmoid(x)\n",
    "        x = self.output(x)\n",
    "        x = self.softmax(x)\n",
    "        \n",
    "        return x"
   ]
  },
  {
   "cell_type": "markdown",
   "metadata": {},
   "source": [
    "Let's go through this bit by bit.\n",
    "\n",
    "```python\n",
    "class Network(nn.Module):\n",
    "```\n",
    "\n",
    "Here we're inheriting from `nn.Module`. Combined with `super().__init__()` this creates a class that tracks the architecture and provides a lot of useful methods and attributes. It is mandatory to inherit from `nn.Module` when you're creating a class for your network. The name of the class itself can be anything.\n",
    "\n",
    "```python\n",
    "self.hidden = nn.Linear(784, 256)\n",
    "```\n",
    "\n",
    "This line creates a module for a linear transformation, $x\\mathbf{W} + b$, with 784 inputs and 256 outputs and assigns it to `self.hidden`. The module automatically creates the weight and bias tensors which we'll use in the `forward` method. You can access the weight and bias tensors once the network (`net`) is created with `net.hidden.weight` and `net.hidden.bias`.\n",
    "\n",
    "```python\n",
    "self.output = nn.Linear(256, 10)\n",
    "```\n",
    "\n",
    "Similarly, this creates another linear transformation with 256 inputs and 10 outputs.\n",
    "\n",
    "```python\n",
    "self.sigmoid = nn.Sigmoid()\n",
    "self.softmax = nn.Softmax(dim=1)\n",
    "```\n",
    "\n",
    "Here I defined operations for the sigmoid activation and softmax output. Setting `dim=1` in `nn.Softmax(dim=1)` calculates softmax across the columns.\n",
    "\n",
    "```python\n",
    "def forward(self, x):\n",
    "```\n",
    "\n",
    "PyTorch networks created with `nn.Module` must have a `forward` method defined. It takes in a tensor `x` and passes it through the operations you defined in the `__init__` method.\n",
    "\n",
    "```python\n",
    "x = self.hidden(x)\n",
    "x = self.sigmoid(x)\n",
    "x = self.output(x)\n",
    "x = self.softmax(x)\n",
    "```\n",
    "\n",
    "Here the input tensor `x` is passed through each operation and reassigned to `x`. We can see that the input tensor goes through the hidden layer, then a sigmoid function, then the output layer, and finally the softmax function. It doesn't matter what you name the variables here, as long as the inputs and outputs of the operations match the network architecture you want to build. The order in which you define things in the `__init__` method doesn't matter, but you'll need to sequence the operations correctly in the `forward` method.\n",
    "\n",
    "Now we can create a `Network` object."
   ]
  },
  {
   "cell_type": "code",
   "execution_count": 49,
   "metadata": {},
   "outputs": [
    {
     "data": {
      "text/plain": [
       "Network(\n",
       "  (hidden): Linear(in_features=784, out_features=256, bias=True)\n",
       "  (output): Linear(in_features=256, out_features=10, bias=True)\n",
       ")"
      ]
     },
     "execution_count": 49,
     "metadata": {},
     "output_type": "execute_result"
    }
   ],
   "source": [
    "# Create the network and look at it's text representation\n",
    "model = Network()\n",
    "model"
   ]
  },
  {
   "cell_type": "markdown",
   "metadata": {},
   "source": [
    "You can define the network somewhat more concisely and clearly using the `torch.nn.functional` module. This is the most common way you'll see networks defined as many operations are simple element-wise functions. We normally import this module as `F`, `import torch.nn.functional as F`."
   ]
  },
  {
   "cell_type": "code",
   "execution_count": 51,
   "metadata": {},
   "outputs": [],
   "source": [
    "import torch.nn.functional as F\n",
    "\n",
    "class Network(nn.Module):\n",
    "    def __init__(self):\n",
    "        super().__init__()\n",
    "        # Inputs to hidden layer linear transformation\n",
    "        self.hidden = nn.Linear(784, 256)\n",
    "        # Output layer, 10 units - one for each digit\n",
    "        self.output = nn.Linear(256, 10)\n",
    "        \n",
    "    def forward(self, x):\n",
    "        # Hidden layer with sigmoid activation\n",
    "        x = F.sigmoid(self.hidden(x))\n",
    "        # Output layer with softmax activation\n",
    "        x = F.softmax(self.output(x), dim=1)\n",
    "        \n",
    "        return x"
   ]
  },
  {
   "cell_type": "markdown",
   "metadata": {},
   "source": [
    "### Activation functions\n",
    "\n",
    "So far we've only been looking at the sigmoid activation function, but in general any function can be used as an activation function. The only requirement is that for a network to approximate a non-linear function, the activation functions must be non-linear. Here are a few more examples of common activation functions: Tanh (hyperbolic tangent), and ReLU (rectified linear unit).\n",
    "\n",
    "<img src=\"assets/activation.png\" width=700px>\n",
    "\n",
    "In practice, the ReLU function is used almost exclusively as the activation function for hidden layers."
   ]
  },
  {
   "cell_type": "markdown",
   "metadata": {},
   "source": [
    "### Your Turn to Build a Network\n",
    "\n",
    "<img src=\"assets/mlp_mnist.png\" width=600px>\n",
    "\n",
    "> **Exercise:** Create a network with 784 input units, a hidden layer with 128 units and a ReLU activation, then a hidden layer with 64 units and a ReLU activation, and finally an output layer with a softmax activation as shown above. You can use a ReLU activation with the `nn.ReLU` module or `F.relu` function.\n",
    "\n",
    "It's good practice to name your layers by their type of network, for instance 'fc' to represent a fully-connected layer. As you code your solution, use `fc1`, `fc2`, and `fc3` as your layer names."
   ]
  },
  {
   "cell_type": "code",
   "execution_count": 80,
   "metadata": {
    "scrolled": true
   },
   "outputs": [
    {
     "data": {
      "text/plain": [
       "Network(\n",
       "  (fc1): Linear(in_features=784, out_features=128, bias=True)\n",
       "  (fc2): Linear(in_features=128, out_features=64, bias=True)\n",
       "  (fc3): Linear(in_features=64, out_features=10, bias=True)\n",
       ")"
      ]
     },
     "execution_count": 80,
     "metadata": {},
     "output_type": "execute_result"
    }
   ],
   "source": [
    "## Your solution here\n",
    "\n",
    "class Network(nn.Module):\n",
    "    def __init__(self):\n",
    "        super().__init__()\n",
    "        # Inputs to hidden layer1  784 - 128\n",
    "        self.fc1 = nn.Linear(784, 128)\n",
    "        # hidden layer1 to hidden layer2 128 - 64\n",
    "        self.fc2 = nn.Linear(128, 64)\n",
    "        # hidden layer3 to output layer \n",
    "        self.fc3 = nn.Linear(64,10)\n",
    "        \n",
    "    def forward(self, x):\n",
    "        x = self.fc1(x)\n",
    "        x = F.relu(x)\n",
    "        x = self.fc2(x)\n",
    "        x = F.relu(x)\n",
    "        # Output layer with softmax activation\n",
    "        x = self.fc3(x)\n",
    "        x = F.softmax(x, dim=1)\n",
    "        \n",
    "        return x\n",
    "    \n",
    "    \n",
    "model = Network()\n",
    "model"
   ]
  },
  {
   "cell_type": "markdown",
   "metadata": {},
   "source": [
    "### Initializing weights and biases\n",
    "\n",
    "The weights and such are automatically initialized for you, but it's possible to customize how they are initialized. The weights and biases are tensors attached to the layer you defined, you can get them with `model.fc1.weight` for instance."
   ]
  },
  {
   "cell_type": "code",
   "execution_count": 81,
   "metadata": {},
   "outputs": [
    {
     "name": "stdout",
     "output_type": "stream",
     "text": [
      "Parameter containing:\n",
      "tensor([[-0.0318,  0.0011,  0.0268,  ...,  0.0022, -0.0004,  0.0230],\n",
      "        [ 0.0261,  0.0111,  0.0005,  ...,  0.0252,  0.0266, -0.0345],\n",
      "        [-0.0204,  0.0352,  0.0302,  ..., -0.0323, -0.0162, -0.0168],\n",
      "        ...,\n",
      "        [-0.0246,  0.0117,  0.0317,  ..., -0.0297,  0.0340, -0.0356],\n",
      "        [-0.0082, -0.0121,  0.0349,  ...,  0.0220,  0.0133,  0.0037],\n",
      "        [-0.0323, -0.0063,  0.0170,  ...,  0.0099,  0.0079,  0.0063]],\n",
      "       requires_grad=True)\n",
      "Parameter containing:\n",
      "tensor([ 0.0090, -0.0270, -0.0210, -0.0104,  0.0264,  0.0178,  0.0144,  0.0093,\n",
      "         0.0201, -0.0107,  0.0246, -0.0345, -0.0153, -0.0285, -0.0318,  0.0265,\n",
      "         0.0016, -0.0323,  0.0110,  0.0161,  0.0178, -0.0308, -0.0183, -0.0122,\n",
      "        -0.0212, -0.0177,  0.0182, -0.0286,  0.0340,  0.0181, -0.0215,  0.0050,\n",
      "         0.0058, -0.0080,  0.0047, -0.0084,  0.0289, -0.0212, -0.0250,  0.0128,\n",
      "         0.0047, -0.0222, -0.0034, -0.0142,  0.0162,  0.0267,  0.0164,  0.0192,\n",
      "         0.0098, -0.0199,  0.0049,  0.0227, -0.0307, -0.0234, -0.0083,  0.0194,\n",
      "         0.0147,  0.0089,  0.0185,  0.0222, -0.0083,  0.0152, -0.0355, -0.0209,\n",
      "        -0.0303,  0.0264,  0.0128,  0.0150, -0.0317, -0.0048, -0.0199, -0.0328,\n",
      "        -0.0207,  0.0052,  0.0272,  0.0126, -0.0201, -0.0023, -0.0139, -0.0051,\n",
      "        -0.0270,  0.0351, -0.0257, -0.0319,  0.0204, -0.0113,  0.0340,  0.0297,\n",
      "         0.0048,  0.0263, -0.0165, -0.0191,  0.0192, -0.0340, -0.0152, -0.0260,\n",
      "         0.0042,  0.0296, -0.0026,  0.0146, -0.0219, -0.0102, -0.0170,  0.0061,\n",
      "         0.0208,  0.0011,  0.0118,  0.0325,  0.0213,  0.0037,  0.0149, -0.0027,\n",
      "         0.0159,  0.0247,  0.0063,  0.0347, -0.0008,  0.0160,  0.0337, -0.0240,\n",
      "        -0.0205,  0.0288, -0.0150,  0.0164,  0.0007, -0.0031,  0.0226,  0.0270],\n",
      "       requires_grad=True)\n"
     ]
    }
   ],
   "source": [
    "print(model.fc1.weight)\n",
    "print(model.fc1.bias)"
   ]
  },
  {
   "cell_type": "markdown",
   "metadata": {},
   "source": [
    "For custom initialization, we want to modify these tensors in place. These are actually autograd *Variables*, so we need to get back the actual tensors with `model.fc1.weight.data`. Once we have the tensors, we can fill them with zeros (for biases) or random normal values."
   ]
  },
  {
   "cell_type": "code",
   "execution_count": 82,
   "metadata": {},
   "outputs": [
    {
     "data": {
      "text/plain": [
       "tensor([0., 0., 0., 0., 0., 0., 0., 0., 0., 0., 0., 0., 0., 0., 0., 0., 0., 0., 0., 0., 0., 0., 0., 0.,\n",
       "        0., 0., 0., 0., 0., 0., 0., 0., 0., 0., 0., 0., 0., 0., 0., 0., 0., 0., 0., 0., 0., 0., 0., 0.,\n",
       "        0., 0., 0., 0., 0., 0., 0., 0., 0., 0., 0., 0., 0., 0., 0., 0., 0., 0., 0., 0., 0., 0., 0., 0.,\n",
       "        0., 0., 0., 0., 0., 0., 0., 0., 0., 0., 0., 0., 0., 0., 0., 0., 0., 0., 0., 0., 0., 0., 0., 0.,\n",
       "        0., 0., 0., 0., 0., 0., 0., 0., 0., 0., 0., 0., 0., 0., 0., 0., 0., 0., 0., 0., 0., 0., 0., 0.,\n",
       "        0., 0., 0., 0., 0., 0., 0., 0.])"
      ]
     },
     "execution_count": 82,
     "metadata": {},
     "output_type": "execute_result"
    }
   ],
   "source": [
    "# Set biases to all zeros\n",
    "model.fc1.bias.data.fill_(0)"
   ]
  },
  {
   "cell_type": "code",
   "execution_count": 83,
   "metadata": {},
   "outputs": [
    {
     "data": {
      "text/plain": [
       "tensor([[-0.0121,  0.0140,  0.0185,  ..., -0.0046,  0.0122, -0.0125],\n",
       "        [-0.0012, -0.0116,  0.0033,  ...,  0.0109, -0.0009,  0.0159],\n",
       "        [-0.0007,  0.0035,  0.0074,  ..., -0.0150,  0.0009,  0.0034],\n",
       "        ...,\n",
       "        [ 0.0015, -0.0047, -0.0085,  ...,  0.0064, -0.0061,  0.0022],\n",
       "        [-0.0043,  0.0037, -0.0060,  ...,  0.0110,  0.0047,  0.0048],\n",
       "        [-0.0200,  0.0060, -0.0146,  ..., -0.0082,  0.0005,  0.0054]])"
      ]
     },
     "execution_count": 83,
     "metadata": {},
     "output_type": "execute_result"
    }
   ],
   "source": [
    "# sample from random normal with standard dev = 0.01\n",
    "model.fc1.weight.data.normal_(std=0.01)"
   ]
  },
  {
   "cell_type": "markdown",
   "metadata": {},
   "source": [
    "### Forward pass\n",
    "\n",
    "Now that we have a network, let's see what happens when we pass in an image."
   ]
  },
  {
   "cell_type": "code",
   "execution_count": 84,
   "metadata": {},
   "outputs": [
    {
     "data": {
      "image/png": "[encoded data removed]",
      "text/plain": [
       "<Figure size 432x648 with 2 Axes>"
      ]
     },
     "metadata": {
      "image/png": {
       "height": 235,
       "width": 424
      },
      "needs_background": "light"
     },
     "output_type": "display_data"
    }
   ],
   "source": [
    "# Grab some data \n",
    "dataiter = iter(trainloader)\n",
    "images, labels = dataiter.next()\n",
    "\n",
    "# Resize images into a 1D vector, new shape is (batch size, color channels, image pixels) \n",
    "images.resize_(64, 1, 784)\n",
    "# or images.resize_(images.shape[0], 1, 784) to automatically get batch size\n",
    "\n",
    "# Forward pass through the network\n",
    "img_idx = 0\n",
    "ps = model.forward(images[img_idx,:])\n",
    "\n",
    "img = images[img_idx]\n",
    "helper.view_classify(img.view(1, 28, 28), ps)"
   ]
  },
  {
   "cell_type": "markdown",
   "metadata": {},
   "source": [
    "As you can see above, our network has basically no idea what this digit is. It's because we haven't trained it yet, all the weights are random!\n",
    "\n",
    "### Using `nn.Sequential`\n",
    "\n",
    "PyTorch provides a convenient way to build networks like this where a tensor is passed sequentially through operations, `nn.Sequential` ([documentation](https://pytorch.org/docs/master/nn.html#torch.nn.Sequential)). Using this to build the equivalent network:"
   ]
  },
  {
   "cell_type": "code",
   "execution_count": 85,
   "metadata": {},
   "outputs": [
    {
     "name": "stdout",
     "output_type": "stream",
     "text": [
      "Sequential(\n",
      "  (0): Linear(in_features=784, out_features=128, bias=True)\n",
      "  (1): ReLU()\n",
      "  (2): Linear(in_features=128, out_features=64, bias=True)\n",
      "  (3): ReLU()\n",
      "  (4): Linear(in_features=64, out_features=10, bias=True)\n",
      "  (5): Softmax()\n",
      ")\n"
     ]
    },
    {
     "data": {
      "image/png": "[encoded data removed]",
      "text/plain": [
       "<Figure size 432x648 with 2 Axes>"
      ]
     },
     "metadata": {
      "image/png": {
       "height": 235,
       "width": 424
      },
      "needs_background": "light"
     },
     "output_type": "display_data"
    }
   ],
   "source": [
    "# Hyperparameters for our network\n",
    "input_size = 784\n",
    "hidden_sizes = [128, 64]\n",
    "output_size = 10\n",
    "\n",
    "# Build a feed-forward network\n",
    "model = nn.Sequential(nn.Linear(input_size, hidden_sizes[0]),\n",
    "                      nn.ReLU(),\n",
    "                      nn.Linear(hidden_sizes[0], hidden_sizes[1]),\n",
    "                      nn.ReLU(),\n",
    "                      nn.Linear(hidden_sizes[1], output_size),\n",
    "                      nn.Softmax(dim=1))\n",
    "print(model)\n",
    "\n",
    "# Forward pass through the network and display output\n",
    "images, labels = next(iter(trainloader))\n",
    "images.resize_(images.shape[0], 1, 784)\n",
    "ps = model.forward(images[0,:])\n",
    "helper.view_classify(images[0].view(1, 28, 28), ps)"
   ]
  },
  {
   "cell_type": "markdown",
   "metadata": {},
   "source": [
    "Here our model is the same as before: 784 input units, a hidden layer with 128 units, ReLU activation, 64 unit hidden layer, another ReLU, then the output layer with 10 units, and the softmax output.\n",
    "\n",
    "The operations are available by passing in the appropriate index. For example, if you want to get first Linear operation and look at the weights, you'd use `model[0]`."
   ]
  },
  {
   "cell_type": "code",
   "execution_count": 86,
   "metadata": {},
   "outputs": [
    {
     "name": "stdout",
     "output_type": "stream",
     "text": [
      "Linear(in_features=784, out_features=128, bias=True)\n"
     ]
    },
    {
     "data": {
      "text/plain": [
       "Parameter containing:\n",
       "tensor([[ 0.0235, -0.0355, -0.0024,  ...,  0.0127,  0.0208,  0.0026],\n",
       "        [-0.0353,  0.0356, -0.0236,  ..., -0.0150,  0.0023,  0.0133],\n",
       "        [-0.0082, -0.0170,  0.0214,  ..., -0.0282,  0.0347, -0.0262],\n",
       "        ...,\n",
       "        [-0.0132, -0.0137,  0.0085,  ..., -0.0169, -0.0197,  0.0060],\n",
       "        [ 0.0054,  0.0062, -0.0342,  ..., -0.0003,  0.0113, -0.0216],\n",
       "        [ 0.0147, -0.0257, -0.0227,  ..., -0.0043,  0.0117,  0.0280]],\n",
       "       requires_grad=True)"
      ]
     },
     "execution_count": 86,
     "metadata": {},
     "output_type": "execute_result"
    }
   ],
   "source": [
    "print(model[0])\n",
    "model[0].weight"
   ]
  },
  {
   "cell_type": "markdown",
   "metadata": {},
   "source": [
    "You can also pass in an `OrderedDict` to name the individual layers and operations, instead of using incremental integers. Note that dictionary keys must be unique, so _each operation must have a different name_."
   ]
  },
  {
   "cell_type": "code",
   "execution_count": 87,
   "metadata": {},
   "outputs": [
    {
     "data": {
      "text/plain": [
       "Sequential(\n",
       "  (fc1): Linear(in_features=784, out_features=128, bias=True)\n",
       "  (relu1): ReLU()\n",
       "  (fc2): Linear(in_features=128, out_features=64, bias=True)\n",
       "  (relu2): ReLU()\n",
       "  (output): Linear(in_features=64, out_features=10, bias=True)\n",
       "  (softmax): Softmax()\n",
       ")"
      ]
     },
     "execution_count": 87,
     "metadata": {},
     "output_type": "execute_result"
    }
   ],
   "source": [
    "from collections import OrderedDict\n",
    "model = nn.Sequential(OrderedDict([\n",
    "                      ('fc1', nn.Linear(input_size, hidden_sizes[0])),\n",
    "                      ('relu1', nn.ReLU()),\n",
    "                      ('fc2', nn.Linear(hidden_sizes[0], hidden_sizes[1])),\n",
    "                      ('relu2', nn.ReLU()),\n",
    "                      ('output', nn.Linear(hidden_sizes[1], output_size)),\n",
    "                      ('softmax', nn.Softmax(dim=1))]))\n",
    "model"
   ]
  },
  {
   "cell_type": "markdown",
   "metadata": {},
   "source": [
    "Now you can access layers either by integer or the name"
   ]
  },
  {
   "cell_type": "code",
   "execution_count": 88,
   "metadata": {},
   "outputs": [
    {
     "name": "stdout",
     "output_type": "stream",
     "text": [
      "Linear(in_features=784, out_features=128, bias=True)\n",
      "Linear(in_features=784, out_features=128, bias=True)\n"
     ]
    }
   ],
   "source": [
    "print(model[0])\n",
    "print(model.fc1)"
   ]
  },
  {
   "cell_type": "markdown",
   "metadata": {},
   "source": [
    "In the next notebook, we'll see how we can train a neural network to accuractly predict the numbers appearing in the MNIST images."
   ]
  }
 ],
 "metadata": {
  "kernelspec": {
   "display_name": "Python 3",
   "language": "python",
   "name": "python3"
  },
  "language_info": {
   "codemirror_mode": {
    "name": "ipython",
    "version": 3
   },
   "file_extension": ".py",
   "mimetype": "text/x-python",
   "name": "python",
   "nbconvert_exporter": "python",
   "pygments_lexer": "ipython3",
   "version": "3.7.3"
  }
 },
 "nbformat": 4,
 "nbformat_minor": 2
}
